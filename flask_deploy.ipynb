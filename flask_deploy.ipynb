{
 "cells": [
  {
   "cell_type": "code",
   "execution_count": null,
   "id": "cloudy-headquarters",
   "metadata": {},
   "outputs": [
    {
     "name": "stdout",
     "output_type": "stream",
     "text": [
      " * Serving Flask app \"__main__\" (lazy loading)\n",
      " * Environment: production\n",
      "\u001b[31m   WARNING: This is a development server. Do not use it in a production deployment.\u001b[0m\n",
      "\u001b[2m   Use a production WSGI server instead.\u001b[0m\n",
      " * Debug mode: off\n"
     ]
    },
    {
     "name": "stderr",
     "output_type": "stream",
     "text": [
      " * Running on http://localhost:7000/ (Press CTRL+C to quit)\n",
      "127.0.0.1 - - [17/May/2023 20:20:27] \"GET / HTTP/1.1\" 200 -\n",
      "127.0.0.1 - - [17/May/2023 20:21:42] \"POST /predict HTTP/1.1\" 200 -\n"
     ]
    },
    {
     "name": "stdout",
     "output_type": "stream",
     "text": [
      "[array(['74', '34.05', '81.23', '146.6', '66.96', '22.35', '36.75',\n",
      "       '97.55', '4300', '286.5', '7.44'], dtype='<U5')]\n",
      "[1.]\n"
     ]
    }
   ],
   "source": [
    "import numpy as np\n",
    "from flask import Flask, request, jsonify, render_template\n",
    "import pickle\n",
    "import joblib\n",
    "\n",
    "app = Flask(__name__)\n",
    "model = joblib.load('catboost1.pkl')\n",
    "\n",
    "@app.route('/')\n",
    "def home():\n",
    "    return render_template('index.html')\n",
    "\n",
    "@app.route('/predict',methods=['POST'])\n",
    "def predict():\n",
    "    '''\n",
    "    For rendering results on HTML GUI\n",
    "    '''\n",
    "    int_features = [(x) for x in request.form.values()]\n",
    "    final_features = [np.array(int_features)]\n",
    "    print(final_features)\n",
    "    prediction = model.predict(final_features)\n",
    "    print(prediction)\n",
    "    output = prediction[0]\n",
    "    if output == 0:\n",
    "        return render_template('index.html', prediction_text='THE PATIENT MIGHT BE RECOVERED, THE PATIENT IN NORMAL ')\n",
    "    elif output == 1:\n",
    "        return render_template('index.html', prediction_text='THE PATIENT MIGHT GET IN TO DANGEROUS ZONE, HENCE THE PATIENT MAY DIE')\n",
    "    else:\n",
    "        return render_template('index.html', prediction_text='it is not correct data')\n",
    "    print(output)\n",
    "\n",
    "if __name__ == \"__main__\":\n",
    "    app.run(host=\"localhost\", port=7000)\n"
   ]
  },
  {
   "cell_type": "code",
   "execution_count": null,
   "id": "50daba44",
   "metadata": {},
   "outputs": [],
   "source": []
  }
 ],
 "metadata": {
  "kernelspec": {
   "display_name": "Python 3 (ipykernel)",
   "language": "python",
   "name": "python3"
  },
  "language_info": {
   "codemirror_mode": {
    "name": "ipython",
    "version": 3
   },
   "file_extension": ".py",
   "mimetype": "text/x-python",
   "name": "python",
   "nbconvert_exporter": "python",
   "pygments_lexer": "ipython3",
   "version": "3.9.12"
  },
  "vscode": {
   "interpreter": {
    "hash": "7db61b100a9183cd6217f413b6ed02ae9245ffa4da493b158621be487aaeeb0e"
   }
  }
 },
 "nbformat": 4,
 "nbformat_minor": 5
}
