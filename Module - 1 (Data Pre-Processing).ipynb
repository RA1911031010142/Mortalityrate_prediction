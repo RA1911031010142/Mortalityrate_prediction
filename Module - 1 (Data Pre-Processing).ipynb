{
 "cells": [
  {
   "cell_type": "markdown",
   "id": "8dbccecb",
   "metadata": {},
   "source": [
    "# DATA PRE-PROCESSING"
   ]
  },
  {
   "cell_type": "code",
   "execution_count": null,
   "id": "a2567035",
   "metadata": {},
   "outputs": [],
   "source": [
    "import pandas as pd\n",
    "import numpy as np"
   ]
  },
  {
   "cell_type": "code",
   "execution_count": null,
   "id": "9a13400b",
   "metadata": {},
   "outputs": [],
   "source": [
    "import warnings\n",
    "warnings.filterwarnings('ignore')"
   ]
  },
  {
   "cell_type": "code",
   "execution_count": null,
   "id": "91e6fdaa",
   "metadata": {},
   "outputs": [],
   "source": [
    "data=pd.read_csv('hospital.csv')"
   ]
  },
  {
   "cell_type": "code",
   "execution_count": null,
   "id": "50bc7f4d",
   "metadata": {},
   "outputs": [],
   "source": [
    "data.head()"
   ]
  },
  {
   "cell_type": "code",
   "execution_count": null,
   "id": "bf1a56c1",
   "metadata": {},
   "outputs": [],
   "source": [
    "data.shape"
   ]
  },
  {
   "cell_type": "code",
   "execution_count": null,
   "id": "bb1cf141",
   "metadata": {},
   "outputs": [],
   "source": [
    "data.columns"
   ]
  },
  {
   "cell_type": "code",
   "execution_count": null,
   "id": "83c12d87",
   "metadata": {},
   "outputs": [],
   "source": [
    "data.isnull().sum()"
   ]
  },
  {
   "cell_type": "code",
   "execution_count": null,
   "id": "42375882",
   "metadata": {},
   "outputs": [],
   "source": [
    "df=data.dropna()"
   ]
  },
  {
   "cell_type": "code",
   "execution_count": null,
   "id": "5d386ff1",
   "metadata": {},
   "outputs": [],
   "source": [
    "df.shape"
   ]
  },
  {
   "cell_type": "code",
   "execution_count": null,
   "id": "08ad3eef",
   "metadata": {},
   "outputs": [],
   "source": [
    "df['outcome'].unique()"
   ]
  },
  {
   "cell_type": "code",
   "execution_count": null,
   "id": "30c96324",
   "metadata": {},
   "outputs": [],
   "source": [
    "df[data['outcome']==0].shape"
   ]
  },
  {
   "cell_type": "code",
   "execution_count": null,
   "id": "6f0ceb94",
   "metadata": {},
   "outputs": [],
   "source": [
    "df[data['outcome']==1].shape"
   ]
  },
  {
   "cell_type": "code",
   "execution_count": null,
   "id": "ed0f716c",
   "metadata": {},
   "outputs": [],
   "source": [
    "df.tail()"
   ]
  },
  {
   "cell_type": "code",
   "execution_count": null,
   "id": "2dbe48d3",
   "metadata": {},
   "outputs": [],
   "source": [
    "x=df['Systolic blood pressure'].unique()\n",
    "x.sort()\n",
    "print(x)"
   ]
  },
  {
   "cell_type": "code",
   "execution_count": null,
   "id": "243617e1",
   "metadata": {},
   "outputs": [],
   "source": [
    "df['Systolic blood pressure'].nunique()"
   ]
  },
  {
   "cell_type": "code",
   "execution_count": null,
   "id": "ca47c609",
   "metadata": {},
   "outputs": [],
   "source": [
    "print('Maximum Age :',df['age'].max())\n",
    "print('Minimum Age :',df['age'].min())\n",
    "print('Mean of Age :','%.2f'%df['age'].mean())\n",
    "print('Median of Age :','%.2f'%df['age'].median())\n",
    "print('Mode of Age :','%.2f'%df['age'].mode())"
   ]
  },
  {
   "cell_type": "code",
   "execution_count": null,
   "id": "72b9e152",
   "metadata": {},
   "outputs": [],
   "source": [
    "df.describe()"
   ]
  },
  {
   "cell_type": "code",
   "execution_count": null,
   "id": "4002a092",
   "metadata": {},
   "outputs": [],
   "source": [
    "df.corr()"
   ]
  },
  {
   "cell_type": "code",
   "execution_count": null,
   "id": "87bc01d4",
   "metadata": {},
   "outputs": [],
   "source": [
    "df.info()"
   ]
  },
  {
   "cell_type": "code",
   "execution_count": null,
   "id": "035c6746",
   "metadata": {},
   "outputs": [],
   "source": [
    "pd.crosstab(df['outcome'],df['age'])"
   ]
  },
  {
   "cell_type": "code",
   "execution_count": null,
   "id": "acf2ad33",
   "metadata": {},
   "outputs": [],
   "source": [
    "pd.crosstab(df['outcome'],df['BMI'])"
   ]
  },
  {
   "cell_type": "code",
   "execution_count": null,
   "id": "c5800acf",
   "metadata": {},
   "outputs": [],
   "source": [
    "pd.crosstab(df['outcome'],df['heart rate'])"
   ]
  },
  {
   "cell_type": "code",
   "execution_count": null,
   "id": "10a887a3",
   "metadata": {},
   "outputs": [],
   "source": [
    "df.columns"
   ]
  },
  {
   "cell_type": "code",
   "execution_count": null,
   "id": "5308c65f",
   "metadata": {},
   "outputs": [],
   "source": [
    "df['PH'].value_counts()"
   ]
  },
  {
   "cell_type": "code",
   "execution_count": null,
   "id": "ba0d1c02",
   "metadata": {},
   "outputs": [],
   "source": [
    "pd.Categorical(df['age']).describe()"
   ]
  },
  {
   "cell_type": "code",
   "execution_count": null,
   "id": "799816e1",
   "metadata": {},
   "outputs": [],
   "source": [
    "pd.Categorical(df['heart rate']).describe()"
   ]
  },
  {
   "cell_type": "code",
   "execution_count": null,
   "id": "f85207f0",
   "metadata": {},
   "outputs": [],
   "source": [
    "df.duplicated()"
   ]
  },
  {
   "cell_type": "code",
   "execution_count": null,
   "id": "da29671f",
   "metadata": {},
   "outputs": [],
   "source": [
    "sum(df.duplicated())"
   ]
  }
 ],
 "metadata": {
  "kernelspec": {
   "display_name": "Python 3 (ipykernel)",
   "language": "python",
   "name": "python3"
  },
  "language_info": {
   "codemirror_mode": {
    "name": "ipython",
    "version": 3
   },
   "file_extension": ".py",
   "mimetype": "text/x-python",
   "name": "python",
   "nbconvert_exporter": "python",
   "pygments_lexer": "ipython3",
   "version": "3.9.12"
  }
 },
 "nbformat": 4,
 "nbformat_minor": 5
}
